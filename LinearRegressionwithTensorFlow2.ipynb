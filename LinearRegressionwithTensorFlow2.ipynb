{
  "nbformat": 4,
  "nbformat_minor": 0,
  "metadata": {
    "kernelspec": {
      "display_name": "Python",
      "language": "python",
      "name": "conda-env-python-py"
    },
    "language_info": {
      "codemirror_mode": {
        "name": "ipython",
        "version": 3
      },
      "file_extension": ".py",
      "mimetype": "text/x-python",
      "name": "python",
      "nbconvert_exporter": "python",
      "pygments_lexer": "ipython3",
      "version": "3.6.11"
    },
    "colab": {
      "name": "LinearRegressionwithTensorFlow2.ipynb",
      "provenance": [],
      "include_colab_link": true
    }
  },
  "cells": [
    {
      "cell_type": "markdown",
      "metadata": {
        "id": "view-in-github",
        "colab_type": "text"
      },
      "source": [
        "<a href=\"https://colab.research.google.com/github/Vankum100/colabs/blob/building-deep-learning-models-with-tensorflow/LinearRegressionwithTensorFlow2.ipynb\" target=\"_parent\"><img src=\"https://colab.research.google.com/assets/colab-badge.svg\" alt=\"Open In Colab\"/></a>"
      ]
    },
    {
      "cell_type": "markdown",
      "metadata": {
        "id": "sKEtDPyXta06"
      },
      "source": [
        "<a id=\"ref1\"></a>\n",
        "\n",
        "<h1>Linear Regression</h1>\n",
        "\n",
        "Defining a linear regression in simple terms, is the approximation of a linear model used to describe the relationship between two or more variables. In a simple linear regression there are two variables, the dependent variable, which can be seen as the \"state\" or \"final goal\" that we study and try to predict, and the independent variables, also known as explanatory variables, which can be seen as the \"causes\" of the \"states\". \n",
        "\n",
        "When more than one independent variable is present the process is called multiple linear regression. <br>\n",
        "When multiple dependent variables are predicted the process is known as multivariate linear regression.\n",
        "\n",
        "The equation of a simple linear model is\n",
        "\n",
        "$$Y = a X + b $$\n",
        "\n",
        "Where Y is the dependent variable and X is the independent variable, and <b>a</b> and <b>b</b> being the parameters we adjust. <b>a</b> is known as \"slope\" or \"gradient\" and <b>b</b> is the \"intercept\". You can interpret this equation as Y being a function of X, or Y being dependent on X.\n",
        "\n",
        "If you plot the model, you will see it is a line, and by adjusting the \"slope\" parameter you will change the angle between the line and the independent variable axis, and the \"intercept parameter\" will affect where it crosses the dependent variable's axis.\n"
      ]
    },
    {
      "cell_type": "markdown",
      "metadata": {
        "id": "9Fhzmim0ta07"
      },
      "source": [
        "We begin by installing TensorFlow version 2.2.0 and its required prerequistes.\n"
      ]
    },
    {
      "cell_type": "code",
      "metadata": {
        "id": "bcfIrhhBta08"
      },
      "source": [
        "!pip install grpcio==1.24.3\n",
        "!pip install tensorflow==2.2.0"
      ],
      "execution_count": null,
      "outputs": []
    },
    {
      "cell_type": "markdown",
      "metadata": {
        "id": "C6zNBfZYta0_"
      },
      "source": [
        "**Restart kernel for latest version of TensorFlow to be activated**\n"
      ]
    },
    {
      "cell_type": "markdown",
      "metadata": {
        "id": "EeSKVxPXta1B"
      },
      "source": [
        "Next, let's first import the required packages:\n"
      ]
    },
    {
      "cell_type": "code",
      "metadata": {
        "id": "S96tVgnGta1C"
      },
      "source": [
        "import matplotlib.pyplot as plt\n",
        "import pandas as pd\n",
        "import pylab as pl\n",
        "import numpy as np\n",
        "import tensorflow as tf\n",
        "import matplotlib.patches as mpatches\n",
        "import matplotlib.pyplot as plt\n",
        "%matplotlib inline\n",
        "plt.rcParams['figure.figsize'] = (10, 6)"
      ],
      "execution_count": null,
      "outputs": []
    },
    {
      "cell_type": "code",
      "metadata": {
        "id": "vlIcFr4tta1F"
      },
      "source": [
        "if not tf.__version__ == '2.2.0':\n",
        "    print(tf.__version__)\n",
        "    raise ValueError('please upgrade to TensorFlow 2.2.0, or restart your Kernel (Kernel->Restart & Clear Output)')"
      ],
      "execution_count": null,
      "outputs": []
    },
    {
      "cell_type": "markdown",
      "metadata": {
        "id": "wkyomYdEta1G"
      },
      "source": [
        "IMPORTANT! => Please restart the kernel by clicking on \"Kernel\"->\"Restart and Clear Outout\" and wait until all output disapears. Then your changes are beeing picked up\n"
      ]
    },
    {
      "cell_type": "markdown",
      "metadata": {
        "id": "kWHYIrFSta1G"
      },
      "source": [
        "Let's define the independent variable:\n"
      ]
    },
    {
      "cell_type": "code",
      "metadata": {
        "id": "012VduQgta1H"
      },
      "source": [
        "X = np.arange(0.0, 5.0, 0.1)\n",
        "X"
      ],
      "execution_count": null,
      "outputs": []
    },
    {
      "cell_type": "code",
      "metadata": {
        "id": "F47NnBupta1H"
      },
      "source": [
        "##You can adjust the slope and intercept to verify the changes in the graph\n",
        "a = 1\n",
        "b = 0\n",
        "\n",
        "Y= a * X + b \n",
        "\n",
        "plt.plot(X, Y) \n",
        "plt.ylabel('Dependent Variable')\n",
        "plt.xlabel('Indepdendent Variable')\n",
        "plt.show()"
      ],
      "execution_count": null,
      "outputs": []
    },
    {
      "cell_type": "markdown",
      "metadata": {
        "id": "-pRjmyD6ta1I"
      },
      "source": [
        "OK... but how can we see this concept of linear relations with a more meaningful point of view?\n",
        "\n",
        "Simple linear relations were used to try to describe and quantify many observable physical phenomena, the easiest to understand are speed and distance traveled:\n"
      ]
    },
    {
      "cell_type": "markdown",
      "metadata": {
        "id": "dMXVVi8Wta1I"
      },
      "source": [
        "$$Distance Traveled = Speed \\\\times Time + Initial Distance$$\n",
        "\n",
        "$$Speed = Acceleration \\\\times Time + Initial Speed$$\n"
      ]
    },
    {
      "cell_type": "markdown",
      "metadata": {
        "id": "EkHM8GMcta1J"
      },
      "source": [
        "They are also used to describe properties of different materials:\n"
      ]
    },
    {
      "cell_type": "markdown",
      "metadata": {
        "id": "MYi_mESHta1K"
      },
      "source": [
        "$$Force = Deformation \\\\times Stiffness$$\n",
        "\n",
        "$$Heat Transfered = Temperature Difference \\\\times Thermal Conductivity$$\n",
        "\n",
        "$$Electrical Tension (Voltage) = Electrical Current \\\\times Resistance$$\n",
        "\n",
        "$$Mass =  Volume \\\\times Density$$\n"
      ]
    },
    {
      "cell_type": "markdown",
      "metadata": {
        "id": "PHSeV8NUta1M"
      },
      "source": [
        "When we perform an experiment and gather the data, or if we already have a dataset and we want to perform a linear regression, what we will do is adjust a simple linear model to the dataset, we adjust the \"slope\" and \"intercept\" parameters to the data the best way possible, because the closer the model comes to describing each ocurrence, the better it will be at representing them.\n",
        "\n",
        "So how is this \"regression\" performed?\n"
      ]
    },
    {
      "cell_type": "markdown",
      "metadata": {
        "id": "iqgpTk7yta1N"
      },
      "source": [
        "<hr>\n"
      ]
    },
    {
      "cell_type": "markdown",
      "metadata": {
        "id": "fjTe13bFta1N"
      },
      "source": [
        "<a id=\"ref2\"></a>\n",
        "\n",
        "<h1>Linear Regression with TensorFlow</h1>\n",
        "A simple example of a linear function can help us understand the basic mechanism behind TensorFlow.\n",
        "\n",
        "For the first part we will use a sample dataset, and then we'll use TensorFlow to adjust and get the right parameters. We download a dataset that is related to fuel consumption and Carbon dioxide emission of cars. \n"
      ]
    },
    {
      "cell_type": "code",
      "metadata": {
        "id": "T9siq0Uvta1O"
      },
      "source": [
        "!wget -O FuelConsumption.csv https://s3-api.us-geo.objectstorage.softlayer.net/cf-courses-data/CognitiveClass/ML0101ENv3/labs/FuelConsumptionCo2.csv"
      ],
      "execution_count": null,
      "outputs": []
    },
    {
      "cell_type": "markdown",
      "metadata": {
        "id": "YZXfociuta1O"
      },
      "source": [
        "<h2>Understanding the Data</h2>\n",
        "\n",
        "<h3><code>FuelConsumption.csv</code>:</h3>\n",
        "We have downloaded a fuel consumption dataset, <b><code>FuelConsumption.csv</code></b>, which contains model-specific fuel consumption ratings and estimated carbon dioxide emissions for new light-duty vehicles for retail sale in Canada. <a href=\"http://open.canada.ca/data/en/dataset/98f1a129-f628-4ce4-b24d-6f16bf24dd64\">Dataset source</a>\n",
        "\n",
        "-   **MODELYEAR** e.g. 2014\n",
        "-   **MAKE** e.g. Acura\n",
        "-   **MODEL** e.g. ILX\n",
        "-   **VEHICLE CLASS** e.g. SUV\n",
        "-   **ENGINE SIZE** e.g. 4.7\n",
        "-   **CYLINDERS** e.g 6\n",
        "-   **TRANSMISSION** e.g. A6\n",
        "-   **FUEL CONSUMPTION in CITY(L/100 km)** e.g. 9.9\n",
        "-   **FUEL CONSUMPTION in HWY (L/100 km)** e.g. 8.9\n",
        "-   **FUEL CONSUMPTION COMB (L/100 km)** e.g. 9.2\n",
        "-   **CO2 EMISSIONS (g/km)** e.g. 182   --> low --> 0\n"
      ]
    },
    {
      "cell_type": "code",
      "metadata": {
        "id": "5B2-jjCrta1Q"
      },
      "source": [
        "df = pd.read_csv(\"FuelConsumption.csv\")\n",
        "\n",
        "# take a look at the dataset\n",
        "df.head()"
      ],
      "execution_count": null,
      "outputs": []
    },
    {
      "cell_type": "markdown",
      "metadata": {
        "id": "U_JKLT-Zta1S"
      },
      "source": [
        "Lets say we want to use linear regression to predict Co2Emission of cars based on their engine size. So, lets define X and Y value for the linear regression, that is, train_x and train_y:\n"
      ]
    },
    {
      "cell_type": "code",
      "metadata": {
        "id": "k9TidTa8ta1V"
      },
      "source": [
        "train_x = np.asanyarray(df[['ENGINESIZE']])\n",
        "train_y = np.asanyarray(df[['CO2EMISSIONS']])"
      ],
      "execution_count": null,
      "outputs": []
    },
    {
      "cell_type": "markdown",
      "metadata": {
        "id": "AXCkOuL0ta1W"
      },
      "source": [
        "First, we initialize the variables <b>a</b> and <b>b</b>, with any random guess, and then we define the linear function:\n"
      ]
    },
    {
      "cell_type": "code",
      "metadata": {
        "id": "x0Wy3oq8ta1X"
      },
      "source": [
        "a = tf.Variable(20.0)\n",
        "b = tf.Variable(30.2)\n",
        "\n",
        "\n",
        "def h(x):\n",
        "   y = a*x + b\n",
        "   return y"
      ],
      "execution_count": null,
      "outputs": []
    },
    {
      "cell_type": "markdown",
      "metadata": {
        "id": "A5s8JHoHta1X"
      },
      "source": [
        "Now, we are going to define a loss function for our regression, so we can train our model to better fit our data. In a linear regression, we minimize the squared error of the difference between the predicted values(obtained from the equation) and the target values (the data that we have). In other words we want to minimize the square of the predicted values minus the target value. So we define the equation to be minimized as loss.\n",
        "\n",
        "To find value of our loss, we use <b>tf.reduce_mean()</b>. This function finds the mean of a multidimensional tensor, and the result can have a different dimension.\n"
      ]
    },
    {
      "cell_type": "code",
      "metadata": {
        "id": "XH2HCoTEta1Y"
      },
      "source": [
        "def loss_object(y,train_y) :\n",
        "    return tf.reduce_mean(tf.square(y - train_y))\n",
        "    # Below is a predefined method offered by TensorFlow to calculate loss function\n",
        "    #loss_object = tf.keras.losses.MeanSquaredLogarithmicError()"
      ],
      "execution_count": null,
      "outputs": []
    },
    {
      "cell_type": "markdown",
      "metadata": {
        "id": "DlRPJtVyta1Y"
      },
      "source": [
        "Now we are ready to start training and run the graph. We use GradientTape to calculate gradients:\n"
      ]
    },
    {
      "cell_type": "code",
      "metadata": {
        "id": "AvQFvL-ita1Z"
      },
      "source": [
        "learning_rate = 0.01\n",
        "train_data = []\n",
        "loss_values =[]\n",
        "# steps of looping through all your data to update the parameters\n",
        "training_epochs = 200\n",
        "\n",
        "# train model\n",
        "for epoch in range(training_epochs):\n",
        "    with tf.GradientTape() as tape:\n",
        "        y_predicted = h(train_x)\n",
        "        loss_value = loss_object(train_y,y_predicted)\n",
        "        loss_values.append(loss_value)\n",
        "\n",
        "        # get gradients\n",
        "        gradients = tape.gradient(loss_value, [b,a])\n",
        "        \n",
        "        # compute and adjust weights\n",
        "        b.assign_sub(gradients[0]*learning_rate)\n",
        "        a.assign_sub(gradients[1]*learning_rate)\n",
        "        if epoch % 5 == 0:\n",
        "            train_data.append([a.numpy(), b.numpy()])\n",
        "\n",
        "\n"
      ],
      "execution_count": null,
      "outputs": []
    },
    {
      "cell_type": "markdown",
      "metadata": {
        "id": "yEtOHCynta1a"
      },
      "source": [
        "Lets plot the loss values to see how it has changed during the training:\n"
      ]
    },
    {
      "cell_type": "code",
      "metadata": {
        "id": "loS_EHTrta1a"
      },
      "source": [
        "plt.plot(loss_values, 'ro')"
      ],
      "execution_count": null,
      "outputs": []
    },
    {
      "cell_type": "markdown",
      "metadata": {
        "id": "FIvGOt5ota1b"
      },
      "source": [
        "Lets visualize how the coefficient and intercept of line has changed to fit the data:\n"
      ]
    },
    {
      "cell_type": "code",
      "metadata": {
        "scrolled": true,
        "id": "D5mY8erRta1b"
      },
      "source": [
        "cr, cg, cb = (1.0, 1.0, 0.0)\n",
        "for f in train_data:\n",
        "    cb += 1.0 / len(train_data)\n",
        "    cg -= 1.0 / len(train_data)\n",
        "    if cb > 1.0: cb = 1.0\n",
        "    if cg < 0.0: cg = 0.0\n",
        "    [a, b] = f\n",
        "    f_y = np.vectorize(lambda x: a*x + b)(train_x)\n",
        "    line = plt.plot(train_x, f_y)\n",
        "    plt.setp(line, color=(cr,cg,cb))\n",
        "\n",
        "plt.plot(train_x, train_y, 'ro')\n",
        "green_line = mpatches.Patch(color='red', label='Data Points')\n",
        "\n",
        "plt.legend(handles=[green_line])\n",
        "\n",
        "plt.show()"
      ],
      "execution_count": null,
      "outputs": []
    }
  ]
}