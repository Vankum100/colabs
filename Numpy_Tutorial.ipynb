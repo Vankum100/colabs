{
  "nbformat": 4,
  "nbformat_minor": 0,
  "metadata": {
    "colab": {
      "name": "Numpy Tutorial.ipynb",
      "provenance": [],
      "authorship_tag": "ABX9TyPovGU7zfj38oD0ELqPF9+a",
      "include_colab_link": true
    },
    "kernelspec": {
      "name": "python3",
      "display_name": "Python 3"
    }
  },
  "cells": [
    {
      "cell_type": "markdown",
      "metadata": {
        "id": "view-in-github",
        "colab_type": "text"
      },
      "source": [
        "<a href=\"https://colab.research.google.com/github/Vankum100/colabs/blob/dl-requirements/Numpy_Tutorial.ipynb\" target=\"_parent\"><img src=\"https://colab.research.google.com/assets/colab-badge.svg\" alt=\"Open In Colab\"/></a>"
      ]
    },
    {
      "cell_type": "markdown",
      "metadata": {
        "id": "PK6FydXQBIf9"
      },
      "source": [
        "# Arrays vs Lists\r\n"
      ]
    },
    {
      "cell_type": "code",
      "metadata": {
        "id": "q2heX1DbBqym"
      },
      "source": [
        "import numpy as np\r\n"
      ],
      "execution_count": 1,
      "outputs": []
    },
    {
      "cell_type": "code",
      "metadata": {
        "id": "Xf0NIK2EB5ww"
      },
      "source": [
        "L = [1,2,3]"
      ],
      "execution_count": 2,
      "outputs": []
    },
    {
      "cell_type": "code",
      "metadata": {
        "id": "puxYJ2QJCHFz"
      },
      "source": [
        "A = np.array([1,2,3])"
      ],
      "execution_count": 3,
      "outputs": []
    },
    {
      "cell_type": "code",
      "metadata": {
        "colab": {
          "base_uri": "https://localhost:8080/"
        },
        "id": "5Yvzan9OCR1F",
        "outputId": "ddc99790-eb43-4379-d9ea-f072aa729d37"
      },
      "source": [
        "for e in L :\r\n",
        "  print(e)"
      ],
      "execution_count": 4,
      "outputs": [
        {
          "output_type": "stream",
          "text": [
            "1\n",
            "2\n",
            "3\n"
          ],
          "name": "stdout"
        }
      ]
    },
    {
      "cell_type": "code",
      "metadata": {
        "colab": {
          "base_uri": "https://localhost:8080/"
        },
        "id": "ITHXGFkdCcbC",
        "outputId": "d1705c13-ab26-43f4-ee99-0e60bd6a9a70"
      },
      "source": [
        "for e in A :\r\n",
        "  print(e)"
      ],
      "execution_count": 5,
      "outputs": [
        {
          "output_type": "stream",
          "text": [
            "1\n",
            "2\n",
            "3\n"
          ],
          "name": "stdout"
        }
      ]
    },
    {
      "cell_type": "code",
      "metadata": {
        "colab": {
          "base_uri": "https://localhost:8080/"
        },
        "id": "yFPuUe7bChF2",
        "outputId": "7b4e2ce6-a614-40a2-bdb1-cc22fadc7238"
      },
      "source": [
        "L.append(4)\r\n",
        "L+ [5]"
      ],
      "execution_count": 6,
      "outputs": [
        {
          "output_type": "execute_result",
          "data": {
            "text/plain": [
              "[1, 2, 3, 4, 5]"
            ]
          },
          "metadata": {
            "tags": []
          },
          "execution_count": 6
        }
      ]
    },
    {
      "cell_type": "code",
      "metadata": {
        "colab": {
          "base_uri": "https://localhost:8080/"
        },
        "id": "GOBtiV3nDMrI",
        "outputId": "8494d589-7307-40d4-8ffa-e22be8f5d4d1"
      },
      "source": [
        "A + np.array([4])  #  each element in A is increased by 4"
      ],
      "execution_count": 7,
      "outputs": [
        {
          "output_type": "execute_result",
          "data": {
            "text/plain": [
              "array([5, 6, 7])"
            ]
          },
          "metadata": {
            "tags": []
          },
          "execution_count": 7
        }
      ]
    },
    {
      "cell_type": "code",
      "metadata": {
        "colab": {
          "base_uri": "https://localhost:8080/"
        },
        "id": "Noo6Zv0EDupE",
        "outputId": "e93d6be5-b608-47ac-c61c-5a5d01cecb05"
      },
      "source": [
        "A + np.array([1,2,3]) # each element in A is increased by 1 , 2 , 3 respectively"
      ],
      "execution_count": 8,
      "outputs": [
        {
          "output_type": "execute_result",
          "data": {
            "text/plain": [
              "array([2, 4, 6])"
            ]
          },
          "metadata": {
            "tags": []
          },
          "execution_count": 8
        }
      ]
    },
    {
      "cell_type": "code",
      "metadata": {
        "id": "o3VOsplbEG-G"
      },
      "source": [
        "#A + np.array([1,2]) # cannot add vectors of different dimensions "
      ],
      "execution_count": 10,
      "outputs": []
    },
    {
      "cell_type": "code",
      "metadata": {
        "colab": {
          "base_uri": "https://localhost:8080/"
        },
        "id": "pzEhvgTdEdbr",
        "outputId": "ce0f7f4f-2133-48f2-a351-3f5a758ed723"
      },
      "source": [
        "A * 2  "
      ],
      "execution_count": 13,
      "outputs": [
        {
          "output_type": "execute_result",
          "data": {
            "text/plain": [
              "array([2, 4, 6])"
            ]
          },
          "metadata": {
            "tags": []
          },
          "execution_count": 13
        }
      ]
    },
    {
      "cell_type": "code",
      "metadata": {
        "colab": {
          "base_uri": "https://localhost:8080/"
        },
        "id": "su71lbj8FdAk",
        "outputId": "ca50358d-df58-4506-c652-2a3f706d3b74"
      },
      "source": [
        "L * 2"
      ],
      "execution_count": 14,
      "outputs": [
        {
          "output_type": "execute_result",
          "data": {
            "text/plain": [
              "[1, 2, 3, 4, 1, 2, 3, 4]"
            ]
          },
          "metadata": {
            "tags": []
          },
          "execution_count": 14
        }
      ]
    },
    {
      "cell_type": "code",
      "metadata": {
        "colab": {
          "base_uri": "https://localhost:8080/"
        },
        "id": "RwOKTbTaF7Ci",
        "outputId": "d10ba571-c94d-4546-e114-2713379f7ec2"
      },
      "source": [
        "L2 = [ e + 3 for e in L] # list comprehension\r\n",
        "L2 "
      ],
      "execution_count": 15,
      "outputs": [
        {
          "output_type": "execute_result",
          "data": {
            "text/plain": [
              "[4, 5, 6, 7]"
            ]
          },
          "metadata": {
            "tags": []
          },
          "execution_count": 15
        }
      ]
    },
    {
      "cell_type": "code",
      "metadata": {
        "colab": {
          "base_uri": "https://localhost:8080/"
        },
        "id": "7HT_564VGnDY",
        "outputId": "c65392a1-a7e2-4d67-dd42-2c9e31abc4f6"
      },
      "source": [
        "A**2 "
      ],
      "execution_count": 19,
      "outputs": [
        {
          "output_type": "execute_result",
          "data": {
            "text/plain": [
              "array([1, 4, 9])"
            ]
          },
          "metadata": {
            "tags": []
          },
          "execution_count": 19
        }
      ]
    },
    {
      "cell_type": "code",
      "metadata": {
        "colab": {
          "base_uri": "https://localhost:8080/"
        },
        "id": "ELW8_sK2HF2G",
        "outputId": "9a184298-51fd-4daf-8ffb-ae5c2436a94a"
      },
      "source": [
        "np.sqrt(A) "
      ],
      "execution_count": 20,
      "outputs": [
        {
          "output_type": "execute_result",
          "data": {
            "text/plain": [
              "array([1.        , 1.41421356, 1.73205081])"
            ]
          },
          "metadata": {
            "tags": []
          },
          "execution_count": 20
        }
      ]
    },
    {
      "cell_type": "code",
      "metadata": {
        "colab": {
          "base_uri": "https://localhost:8080/"
        },
        "id": "9ACzHIq6HMzQ",
        "outputId": "d9a95754-5fc4-451b-b4e1-4a9fd38117d8"
      },
      "source": [
        "np.log(A)"
      ],
      "execution_count": 21,
      "outputs": [
        {
          "output_type": "execute_result",
          "data": {
            "text/plain": [
              "array([0.        , 0.69314718, 1.09861229])"
            ]
          },
          "metadata": {
            "tags": []
          },
          "execution_count": 21
        }
      ]
    },
    {
      "cell_type": "code",
      "metadata": {
        "colab": {
          "base_uri": "https://localhost:8080/"
        },
        "id": "2LKK2w0GHSIJ",
        "outputId": "5dc4bc1b-49c7-41b3-b126-f8a4c9d50a56"
      },
      "source": [
        "np.exp(A)"
      ],
      "execution_count": 22,
      "outputs": [
        {
          "output_type": "execute_result",
          "data": {
            "text/plain": [
              "array([ 2.71828183,  7.3890561 , 20.08553692])"
            ]
          },
          "metadata": {
            "tags": []
          },
          "execution_count": 22
        }
      ]
    },
    {
      "cell_type": "code",
      "metadata": {
        "colab": {
          "base_uri": "https://localhost:8080/"
        },
        "id": "6Ev_SFx6HWu5",
        "outputId": "c423ef35-5fd3-4b3c-8982-19301051315b"
      },
      "source": [
        "np.tanh(A)"
      ],
      "execution_count": 23,
      "outputs": [
        {
          "output_type": "execute_result",
          "data": {
            "text/plain": [
              "array([0.76159416, 0.96402758, 0.99505475])"
            ]
          },
          "metadata": {
            "tags": []
          },
          "execution_count": 23
        }
      ]
    },
    {
      "cell_type": "markdown",
      "metadata": {
        "id": "9KEfNAWGZNdJ"
      },
      "source": [
        "# Generating Data"
      ]
    },
    {
      "cell_type": "code",
      "metadata": {
        "colab": {
          "base_uri": "https://localhost:8080/"
        },
        "id": "a0ofrHRqZUTu",
        "outputId": "86d9e6ce-af27-4119-b602-8142770222e8"
      },
      "source": [
        "np.zeros((2,2))"
      ],
      "execution_count": 70,
      "outputs": [
        {
          "output_type": "execute_result",
          "data": {
            "text/plain": [
              "array([[0., 0.],\n",
              "       [0., 0.]])"
            ]
          },
          "metadata": {
            "tags": []
          },
          "execution_count": 70
        }
      ]
    },
    {
      "cell_type": "code",
      "metadata": {
        "colab": {
          "base_uri": "https://localhost:8080/"
        },
        "id": "iZnvE0qEaAUP",
        "outputId": "78e4fa43-ebae-43e7-9094-b7c0b9b0ac24"
      },
      "source": [
        "np.ones((2,3))"
      ],
      "execution_count": 71,
      "outputs": [
        {
          "output_type": "execute_result",
          "data": {
            "text/plain": [
              "array([[1., 1., 1.],\n",
              "       [1., 1., 1.]])"
            ]
          },
          "metadata": {
            "tags": []
          },
          "execution_count": 71
        }
      ]
    },
    {
      "cell_type": "code",
      "metadata": {
        "colab": {
          "base_uri": "https://localhost:8080/"
        },
        "id": "TEsYuE0KaF9Q",
        "outputId": "46b10652-a63f-424f-db66-ddbba26a530a"
      },
      "source": [
        "10 * np.ones((2,3))"
      ],
      "execution_count": 72,
      "outputs": [
        {
          "output_type": "execute_result",
          "data": {
            "text/plain": [
              "array([[10., 10., 10.],\n",
              "       [10., 10., 10.]])"
            ]
          },
          "metadata": {
            "tags": []
          },
          "execution_count": 72
        }
      ]
    },
    {
      "cell_type": "code",
      "metadata": {
        "colab": {
          "base_uri": "https://localhost:8080/"
        },
        "id": "Tqn6-f-caLsH",
        "outputId": "00f3f458-3cb4-46de-e0e5-b64851b86db3"
      },
      "source": [
        "np.eye(2)"
      ],
      "execution_count": 73,
      "outputs": [
        {
          "output_type": "execute_result",
          "data": {
            "text/plain": [
              "array([[1., 0.],\n",
              "       [0., 1.]])"
            ]
          },
          "metadata": {
            "tags": []
          },
          "execution_count": 73
        }
      ]
    },
    {
      "cell_type": "code",
      "metadata": {
        "colab": {
          "base_uri": "https://localhost:8080/"
        },
        "id": "tzAn9sUsbtOk",
        "outputId": "b53f8772-95a1-43df-d8cb-e6396464d290"
      },
      "source": [
        "np.random.random()"
      ],
      "execution_count": 74,
      "outputs": [
        {
          "output_type": "execute_result",
          "data": {
            "text/plain": [
              "0.8405490645958047"
            ]
          },
          "metadata": {
            "tags": []
          },
          "execution_count": 74
        }
      ]
    },
    {
      "cell_type": "code",
      "metadata": {
        "colab": {
          "base_uri": "https://localhost:8080/"
        },
        "id": "pzQ6YPRvb-Hg",
        "outputId": "45fa1c35-a65a-414b-e9a5-c44b7df5fc5e"
      },
      "source": [
        "np.random.random((2,3))"
      ],
      "execution_count": 75,
      "outputs": [
        {
          "output_type": "execute_result",
          "data": {
            "text/plain": [
              "array([[0.95306159, 0.18794687, 0.68787799],\n",
              "       [0.30898482, 0.44297841, 0.64394665]])"
            ]
          },
          "metadata": {
            "tags": []
          },
          "execution_count": 75
        }
      ]
    },
    {
      "cell_type": "code",
      "metadata": {
        "colab": {
          "base_uri": "https://localhost:8080/"
        },
        "id": "JEvQDyOMcIHv",
        "outputId": "59ef85aa-59ea-4796-fb0c-8f5c7d687249"
      },
      "source": [
        "np.random.randn(2,3)"
      ],
      "execution_count": 76,
      "outputs": [
        {
          "output_type": "execute_result",
          "data": {
            "text/plain": [
              "array([[ 0.82622838,  0.29387232, -1.86497166],\n",
              "       [-0.31783042,  0.22502615, -0.48047855]])"
            ]
          },
          "metadata": {
            "tags": []
          },
          "execution_count": 76
        }
      ]
    },
    {
      "cell_type": "code",
      "metadata": {
        "id": "gFCGvZ7vcg5-"
      },
      "source": [
        "R = np.random.randn(10000)"
      ],
      "execution_count": 77,
      "outputs": []
    },
    {
      "cell_type": "code",
      "metadata": {
        "colab": {
          "base_uri": "https://localhost:8080/"
        },
        "id": "9BQKhqvYcojH",
        "outputId": "8b14221f-bc0b-4938-c49f-05c3e8215f27"
      },
      "source": [
        "R.mean()"
      ],
      "execution_count": 78,
      "outputs": [
        {
          "output_type": "execute_result",
          "data": {
            "text/plain": [
              "-0.0071812779700546866"
            ]
          },
          "metadata": {
            "tags": []
          },
          "execution_count": 78
        }
      ]
    },
    {
      "cell_type": "code",
      "metadata": {
        "colab": {
          "base_uri": "https://localhost:8080/"
        },
        "id": "KeM1kRXlctUl",
        "outputId": "8ee5be17-3ad5-40cb-ac9d-bfbdeef4001d"
      },
      "source": [
        "np.mean(R)"
      ],
      "execution_count": 79,
      "outputs": [
        {
          "output_type": "execute_result",
          "data": {
            "text/plain": [
              "-0.0071812779700546866"
            ]
          },
          "metadata": {
            "tags": []
          },
          "execution_count": 79
        }
      ]
    },
    {
      "cell_type": "code",
      "metadata": {
        "colab": {
          "base_uri": "https://localhost:8080/"
        },
        "id": "LJRsQjhDc244",
        "outputId": "e544b802-ce86-4afb-efee-5848d81a5940"
      },
      "source": [
        "R.var() # variance of R "
      ],
      "execution_count": 80,
      "outputs": [
        {
          "output_type": "execute_result",
          "data": {
            "text/plain": [
              "0.9945336068400272"
            ]
          },
          "metadata": {
            "tags": []
          },
          "execution_count": 80
        }
      ]
    },
    {
      "cell_type": "code",
      "metadata": {
        "colab": {
          "base_uri": "https://localhost:8080/"
        },
        "id": "6dctAfQJc-hi",
        "outputId": "8613d410-b4e6-4615-a9a8-64b4e98ba6d8"
      },
      "source": [
        "R.std() # standard deviation of R  = sqrt( R.var())"
      ],
      "execution_count": 81,
      "outputs": [
        {
          "output_type": "execute_result",
          "data": {
            "text/plain": [
              "0.9972630579942422"
            ]
          },
          "metadata": {
            "tags": []
          },
          "execution_count": 81
        }
      ]
    },
    {
      "cell_type": "code",
      "metadata": {
        "colab": {
          "base_uri": "https://localhost:8080/"
        },
        "id": "1H8JV9XkdSKz",
        "outputId": "6cec796d-98d0-435f-a329-b3c8793966fa"
      },
      "source": [
        "np.sqrt(R.var())"
      ],
      "execution_count": 82,
      "outputs": [
        {
          "output_type": "execute_result",
          "data": {
            "text/plain": [
              "0.9972630579942422"
            ]
          },
          "metadata": {
            "tags": []
          },
          "execution_count": 82
        }
      ]
    },
    {
      "cell_type": "code",
      "metadata": {
        "id": "-bGe6Wd9dY8b"
      },
      "source": [
        "Rm = np.random.randn(10000, 3) "
      ],
      "execution_count": 83,
      "outputs": []
    },
    {
      "cell_type": "code",
      "metadata": {
        "colab": {
          "base_uri": "https://localhost:8080/"
        },
        "id": "jWjS7c6EdvI5",
        "outputId": "08693ec7-dddd-4c2b-8e38-3da4d8537466"
      },
      "source": [
        "Rm.mean( axis= 0) # mean of each column"
      ],
      "execution_count": 84,
      "outputs": [
        {
          "output_type": "execute_result",
          "data": {
            "text/plain": [
              "array([-0.00571081, -0.00368712, -0.00752599])"
            ]
          },
          "metadata": {
            "tags": []
          },
          "execution_count": 84
        }
      ]
    },
    {
      "cell_type": "code",
      "metadata": {
        "colab": {
          "base_uri": "https://localhost:8080/"
        },
        "id": "18VNNFt6eAn9",
        "outputId": "96d0e184-e5c2-482c-986e-e18060bb9531"
      },
      "source": [
        "Rm.mean(axis = 1).shape  # number of rows"
      ],
      "execution_count": 85,
      "outputs": [
        {
          "output_type": "execute_result",
          "data": {
            "text/plain": [
              "(10000,)"
            ]
          },
          "metadata": {
            "tags": []
          },
          "execution_count": 85
        }
      ]
    },
    {
      "cell_type": "code",
      "metadata": {
        "colab": {
          "base_uri": "https://localhost:8080/"
        },
        "id": "0gQ1guMjeYn3",
        "outputId": "620d8125-8916-465a-88bf-b7bf8fe839d6"
      },
      "source": [
        "np.cov(Rm).shape "
      ],
      "execution_count": 87,
      "outputs": [
        {
          "output_type": "execute_result",
          "data": {
            "text/plain": [
              "(10000, 10000)"
            ]
          },
          "metadata": {
            "tags": []
          },
          "execution_count": 87
        }
      ]
    },
    {
      "cell_type": "code",
      "metadata": {
        "colab": {
          "base_uri": "https://localhost:8080/"
        },
        "id": "blkL98pKehtQ",
        "outputId": "b4d2e26f-15bf-407e-f04d-5c69d8ac6fa4"
      },
      "source": [
        "np.cov(Rm.T) # Estimate a covariance matrix, given data and weights."
      ],
      "execution_count": 89,
      "outputs": [
        {
          "output_type": "execute_result",
          "data": {
            "text/plain": [
              "array([[1.01285965, 0.00959276, 0.01997035],\n",
              "       [0.00959276, 0.99064573, 0.00714254],\n",
              "       [0.01997035, 0.00714254, 0.99494366]])"
            ]
          },
          "metadata": {
            "tags": []
          },
          "execution_count": 89
        }
      ]
    },
    {
      "cell_type": "code",
      "metadata": {
        "colab": {
          "base_uri": "https://localhost:8080/"
        },
        "id": "4ONFvZBae4r9",
        "outputId": "9190e14a-eed6-45aa-e2f9-1f8239e06d4d"
      },
      "source": [
        "np.cov(Rm, rowvar= False ) # same result without transpose "
      ],
      "execution_count": 91,
      "outputs": [
        {
          "output_type": "execute_result",
          "data": {
            "text/plain": [
              "array([[1.01285965, 0.00959276, 0.01997035],\n",
              "       [0.00959276, 0.99064573, 0.00714254],\n",
              "       [0.01997035, 0.00714254, 0.99494366]])"
            ]
          },
          "metadata": {
            "tags": []
          },
          "execution_count": 91
        }
      ]
    },
    {
      "cell_type": "code",
      "metadata": {
        "colab": {
          "base_uri": "https://localhost:8080/"
        },
        "id": "V8K1tC5UfUKs",
        "outputId": "e76f3aa5-eaf5-4948-8917-ea90f6883741"
      },
      "source": [
        "np.random.randint(0, 10, size = (4, 4)) "
      ],
      "execution_count": 92,
      "outputs": [
        {
          "output_type": "execute_result",
          "data": {
            "text/plain": [
              "array([[7, 2, 3, 2],\n",
              "       [2, 6, 4, 6],\n",
              "       [5, 2, 3, 6],\n",
              "       [8, 0, 4, 3]])"
            ]
          },
          "metadata": {
            "tags": []
          },
          "execution_count": 92
        }
      ]
    },
    {
      "cell_type": "code",
      "metadata": {
        "colab": {
          "base_uri": "https://localhost:8080/"
        },
        "id": "VADAdSS5fmAf",
        "outputId": "354553c8-76d5-4a65-da1b-45fc69770d34"
      },
      "source": [
        "np.random.choice(10, size =( 3, 3))"
      ],
      "execution_count": 94,
      "outputs": [
        {
          "output_type": "execute_result",
          "data": {
            "text/plain": [
              "array([[8, 4, 6],\n",
              "       [8, 4, 2],\n",
              "       [8, 5, 5]])"
            ]
          },
          "metadata": {
            "tags": []
          },
          "execution_count": 94
        }
      ]
    },
    {
      "cell_type": "markdown",
      "metadata": {
        "id": "KUNMfsdnHjvF"
      },
      "source": [
        "# The Dot Product"
      ]
    },
    {
      "cell_type": "code",
      "metadata": {
        "id": "tI3mP3tUHsg5"
      },
      "source": [
        "a = np.array([1,2])\r\n",
        "b = np.array([3,4])\r\n"
      ],
      "execution_count": 24,
      "outputs": []
    },
    {
      "cell_type": "code",
      "metadata": {
        "colab": {
          "base_uri": "https://localhost:8080/"
        },
        "id": "n2W0XwuqH9Kp",
        "outputId": "dfa12ad6-6c5a-4c65-b084-18f4d814bbb1"
      },
      "source": [
        "dot = 0\r\n",
        "\r\n",
        "for e , f in zip(a,b) : \r\n",
        "  dot += e * f \r\n",
        "dot   "
      ],
      "execution_count": 25,
      "outputs": [
        {
          "output_type": "execute_result",
          "data": {
            "text/plain": [
              "11"
            ]
          },
          "metadata": {
            "tags": []
          },
          "execution_count": 25
        }
      ]
    },
    {
      "cell_type": "code",
      "metadata": {
        "colab": {
          "base_uri": "https://localhost:8080/"
        },
        "id": "KDeST_2HIXAf",
        "outputId": "368ca19d-8d5f-4b87-db75-1dcef267eaaf"
      },
      "source": [
        "dot = 0 \r\n",
        "for i in range(len(a)) : \r\n",
        "  dot += a[i] * b[i]\r\n",
        "dot   "
      ],
      "execution_count": 27,
      "outputs": [
        {
          "output_type": "execute_result",
          "data": {
            "text/plain": [
              "11"
            ]
          },
          "metadata": {
            "tags": []
          },
          "execution_count": 27
        }
      ]
    },
    {
      "cell_type": "code",
      "metadata": {
        "colab": {
          "base_uri": "https://localhost:8080/"
        },
        "id": "Psn0YY48JEh5",
        "outputId": "cccc2b90-571a-4806-bfa4-4e93db755120"
      },
      "source": [
        "np.sum(a * b) # dot product fast method"
      ],
      "execution_count": 29,
      "outputs": [
        {
          "output_type": "execute_result",
          "data": {
            "text/plain": [
              "11"
            ]
          },
          "metadata": {
            "tags": []
          },
          "execution_count": 29
        }
      ]
    },
    {
      "cell_type": "code",
      "metadata": {
        "colab": {
          "base_uri": "https://localhost:8080/"
        },
        "id": "Pnc3qEbcJerL",
        "outputId": "9e089ff9-8cf5-44c6-d6b6-8d626ceb2c8e"
      },
      "source": [
        "(a * b).sum()"
      ],
      "execution_count": 30,
      "outputs": [
        {
          "output_type": "execute_result",
          "data": {
            "text/plain": [
              "11"
            ]
          },
          "metadata": {
            "tags": []
          },
          "execution_count": 30
        }
      ]
    },
    {
      "cell_type": "code",
      "metadata": {
        "colab": {
          "base_uri": "https://localhost:8080/"
        },
        "id": "PBhAtyAGJkcz",
        "outputId": "79a894c4-6d68-4b85-f9c6-d7858a0a4aac"
      },
      "source": [
        "np.dot(a,b)  # best practice"
      ],
      "execution_count": 31,
      "outputs": [
        {
          "output_type": "execute_result",
          "data": {
            "text/plain": [
              "11"
            ]
          },
          "metadata": {
            "tags": []
          },
          "execution_count": 31
        }
      ]
    },
    {
      "cell_type": "code",
      "metadata": {
        "colab": {
          "base_uri": "https://localhost:8080/"
        },
        "id": "Ss0mGBvvJsJ1",
        "outputId": "cdb6f975-256d-4101-ff88-4b5e76f9e7be"
      },
      "source": [
        "a.dot(b)"
      ],
      "execution_count": 32,
      "outputs": [
        {
          "output_type": "execute_result",
          "data": {
            "text/plain": [
              "11"
            ]
          },
          "metadata": {
            "tags": []
          },
          "execution_count": 32
        }
      ]
    },
    {
      "cell_type": "code",
      "metadata": {
        "colab": {
          "base_uri": "https://localhost:8080/"
        },
        "id": "ubdWUDi9J2hO",
        "outputId": "e54b5551-6014-4c12-b03b-4900824d737d"
      },
      "source": [
        "a @ b # new way "
      ],
      "execution_count": 33,
      "outputs": [
        {
          "output_type": "execute_result",
          "data": {
            "text/plain": [
              "11"
            ]
          },
          "metadata": {
            "tags": []
          },
          "execution_count": 33
        }
      ]
    },
    {
      "cell_type": "code",
      "metadata": {
        "colab": {
          "base_uri": "https://localhost:8080/"
        },
        "id": "HCMN7TH0KWcD",
        "outputId": "c05c2a95-a945-460f-fe6e-aa59b1d2b941"
      },
      "source": [
        "amag = np.sqrt((a * a).sum())  # magnitude of a = square root of a^2\r\n",
        "amag"
      ],
      "execution_count": 34,
      "outputs": [
        {
          "output_type": "execute_result",
          "data": {
            "text/plain": [
              "2.23606797749979"
            ]
          },
          "metadata": {
            "tags": []
          },
          "execution_count": 34
        }
      ]
    },
    {
      "cell_type": "code",
      "metadata": {
        "colab": {
          "base_uri": "https://localhost:8080/"
        },
        "id": "NYbdx4OsK07x",
        "outputId": "b129b7da-d6cf-4548-e820-b885630ec2b5"
      },
      "source": [
        "amag = np.linalg.norm(a) # linear algebra normal of a\r\n",
        "amag "
      ],
      "execution_count": 35,
      "outputs": [
        {
          "output_type": "execute_result",
          "data": {
            "text/plain": [
              "2.23606797749979"
            ]
          },
          "metadata": {
            "tags": []
          },
          "execution_count": 35
        }
      ]
    },
    {
      "cell_type": "code",
      "metadata": {
        "colab": {
          "base_uri": "https://localhost:8080/"
        },
        "id": "TseJs91QLVO3",
        "outputId": "901c6e19-6cb9-4321-a6aa-f5c29698b515"
      },
      "source": [
        "cos_angle = a.dot(b) / ( np.linalg.norm(a) * np.linalg.norm(b))\r\n",
        "\r\n",
        "cos_angle "
      ],
      "execution_count": 36,
      "outputs": [
        {
          "output_type": "execute_result",
          "data": {
            "text/plain": [
              "0.9838699100999074"
            ]
          },
          "metadata": {
            "tags": []
          },
          "execution_count": 36
        }
      ]
    },
    {
      "cell_type": "code",
      "metadata": {
        "colab": {
          "base_uri": "https://localhost:8080/"
        },
        "id": "34mkcEufL84O",
        "outputId": "3d3252fc-a801-49c0-fd6a-2e06a2feb768"
      },
      "source": [
        "angle_ab = np.arccos(cos_angle)\r\n",
        "\r\n",
        "angle_ab "
      ],
      "execution_count": 37,
      "outputs": [
        {
          "output_type": "execute_result",
          "data": {
            "text/plain": [
              "0.17985349979247847"
            ]
          },
          "metadata": {
            "tags": []
          },
          "execution_count": 37
        }
      ]
    },
    {
      "cell_type": "code",
      "metadata": {
        "colab": {
          "base_uri": "https://localhost:8080/"
        },
        "id": "g3J1XiQPNQFG",
        "outputId": "81fa571f-2957-41f3-fb6f-df001c86a30c"
      },
      "source": [
        "list_M = [[1,2], [3,4]]\r\n",
        "list_M "
      ],
      "execution_count": 38,
      "outputs": [
        {
          "output_type": "execute_result",
          "data": {
            "text/plain": [
              "[[1, 2], [3, 4]]"
            ]
          },
          "metadata": {
            "tags": []
          },
          "execution_count": 38
        }
      ]
    },
    {
      "cell_type": "markdown",
      "metadata": {
        "id": "w87ehWFENIQW"
      },
      "source": [
        "# Matrix"
      ]
    },
    {
      "cell_type": "code",
      "metadata": {
        "colab": {
          "base_uri": "https://localhost:8080/"
        },
        "id": "sZnzD7kROCo4",
        "outputId": "67ec57fb-a4db-48ec-947a-17857bff2965"
      },
      "source": [
        "array_M = np.array(list_M)\r\n",
        "array_M "
      ],
      "execution_count": 39,
      "outputs": [
        {
          "output_type": "execute_result",
          "data": {
            "text/plain": [
              "array([[1, 2],\n",
              "       [3, 4]])"
            ]
          },
          "metadata": {
            "tags": []
          },
          "execution_count": 39
        }
      ]
    },
    {
      "cell_type": "code",
      "metadata": {
        "colab": {
          "base_uri": "https://localhost:8080/"
        },
        "id": "VvCnEzn2OYos",
        "outputId": "9a29ad2b-bfd7-4a39-a3e0-719f07db15c6"
      },
      "source": [
        "array_M[0][1]"
      ],
      "execution_count": 41,
      "outputs": [
        {
          "output_type": "execute_result",
          "data": {
            "text/plain": [
              "2"
            ]
          },
          "metadata": {
            "tags": []
          },
          "execution_count": 41
        }
      ]
    },
    {
      "cell_type": "code",
      "metadata": {
        "colab": {
          "base_uri": "https://localhost:8080/"
        },
        "id": "RbUVcXNEOgHN",
        "outputId": "6260c451-ffbd-4cbf-aec5-8714e7d1ec06"
      },
      "source": [
        "array_M[0,1]"
      ],
      "execution_count": 42,
      "outputs": [
        {
          "output_type": "execute_result",
          "data": {
            "text/plain": [
              "2"
            ]
          },
          "metadata": {
            "tags": []
          },
          "execution_count": 42
        }
      ]
    },
    {
      "cell_type": "code",
      "metadata": {
        "colab": {
          "base_uri": "https://localhost:8080/"
        },
        "id": "3m8gf7-3Oi56",
        "outputId": "4b0e52d3-4e6a-4f3e-c783-d225164b1cbd"
      },
      "source": [
        "array_M[:, 0]  # select a column aka every row in that dimension"
      ],
      "execution_count": 43,
      "outputs": [
        {
          "output_type": "execute_result",
          "data": {
            "text/plain": [
              "array([1, 3])"
            ]
          },
          "metadata": {
            "tags": []
          },
          "execution_count": 43
        }
      ]
    },
    {
      "cell_type": "code",
      "metadata": {
        "colab": {
          "base_uri": "https://localhost:8080/"
        },
        "id": "1L7jvPe2PDFR",
        "outputId": "f8789ccd-1508-4566-c56f-7e9978393c79"
      },
      "source": [
        "array_M.T  # transpose of matrix "
      ],
      "execution_count": 44,
      "outputs": [
        {
          "output_type": "execute_result",
          "data": {
            "text/plain": [
              "array([[1, 3],\n",
              "       [2, 4]])"
            ]
          },
          "metadata": {
            "tags": []
          },
          "execution_count": 44
        }
      ]
    },
    {
      "cell_type": "code",
      "metadata": {
        "colab": {
          "base_uri": "https://localhost:8080/"
        },
        "id": "8IsGx43uPTCi",
        "outputId": "fb449889-9186-4884-8c7e-f2b0f9272d59"
      },
      "source": [
        "np.exp(array_M)"
      ],
      "execution_count": 45,
      "outputs": [
        {
          "output_type": "execute_result",
          "data": {
            "text/plain": [
              "array([[ 2.71828183,  7.3890561 ],\n",
              "       [20.08553692, 54.59815003]])"
            ]
          },
          "metadata": {
            "tags": []
          },
          "execution_count": 45
        }
      ]
    },
    {
      "cell_type": "code",
      "metadata": {
        "colab": {
          "base_uri": "https://localhost:8080/"
        },
        "id": "GepSygehPY0S",
        "outputId": "90826214-00cd-46b5-c43b-bc78977bba10"
      },
      "source": [
        "A = array_M\r\n",
        "A "
      ],
      "execution_count": 46,
      "outputs": [
        {
          "output_type": "execute_result",
          "data": {
            "text/plain": [
              "array([[1, 2],\n",
              "       [3, 4]])"
            ]
          },
          "metadata": {
            "tags": []
          },
          "execution_count": 46
        }
      ]
    },
    {
      "cell_type": "code",
      "metadata": {
        "colab": {
          "base_uri": "https://localhost:8080/"
        },
        "id": "jpWWP-2uPrV1",
        "outputId": "eca80d7f-9f20-46dc-dfc3-ff678eb605fb"
      },
      "source": [
        "B = np.array([[1,2,3], [4,5,6]])\r\n",
        "B "
      ],
      "execution_count": 48,
      "outputs": [
        {
          "output_type": "execute_result",
          "data": {
            "text/plain": [
              "array([[1, 2, 3],\n",
              "       [4, 5, 6]])"
            ]
          },
          "metadata": {
            "tags": []
          },
          "execution_count": 48
        }
      ]
    },
    {
      "cell_type": "code",
      "metadata": {
        "colab": {
          "base_uri": "https://localhost:8080/"
        },
        "id": "0TW00QCgP-eh",
        "outputId": "17092655-d2ce-4c7d-fbb6-2d74511faf12"
      },
      "source": [
        "A.dot(B) # matrix multiplication of A * B = A.B"
      ],
      "execution_count": 49,
      "outputs": [
        {
          "output_type": "execute_result",
          "data": {
            "text/plain": [
              "array([[ 9, 12, 15],\n",
              "       [19, 26, 33]])"
            ]
          },
          "metadata": {
            "tags": []
          },
          "execution_count": 49
        }
      ]
    },
    {
      "cell_type": "code",
      "metadata": {
        "id": "3thnGe1JQROz"
      },
      "source": [
        "#A.dot(B.T) # ValueError: shapes (2,2) and (3,2) not aligned: 2 (dim 1) != 3 (dim 0)"
      ],
      "execution_count": 51,
      "outputs": []
    },
    {
      "cell_type": "code",
      "metadata": {
        "colab": {
          "base_uri": "https://localhost:8080/"
        },
        "id": "_9lyfdsWQmK4",
        "outputId": "39ff34b1-6d26-401f-ec4c-320ddcb73859"
      },
      "source": [
        "np.linalg.det(A) "
      ],
      "execution_count": 52,
      "outputs": [
        {
          "output_type": "execute_result",
          "data": {
            "text/plain": [
              "-2.0000000000000004"
            ]
          },
          "metadata": {
            "tags": []
          },
          "execution_count": 52
        }
      ]
    },
    {
      "cell_type": "code",
      "metadata": {
        "colab": {
          "base_uri": "https://localhost:8080/"
        },
        "id": "x44Tx5wRQsKA",
        "outputId": "7d389435-87d3-4aa5-a359-75758a25f83c"
      },
      "source": [
        "np.linalg.inv(A) "
      ],
      "execution_count": 54,
      "outputs": [
        {
          "output_type": "execute_result",
          "data": {
            "text/plain": [
              "array([[-2. ,  1. ],\n",
              "       [ 1.5, -0.5]])"
            ]
          },
          "metadata": {
            "tags": []
          },
          "execution_count": 54
        }
      ]
    },
    {
      "cell_type": "code",
      "metadata": {
        "colab": {
          "base_uri": "https://localhost:8080/"
        },
        "id": "EYeLMbTARDWf",
        "outputId": "a6726329-cbb2-4693-b42d-a3e9b964d5f5"
      },
      "source": [
        "np.linalg.inv(A).dot(A)  #  I = A.A^-1\r\n"
      ],
      "execution_count": 55,
      "outputs": [
        {
          "output_type": "execute_result",
          "data": {
            "text/plain": [
              "array([[1.00000000e+00, 0.00000000e+00],\n",
              "       [1.11022302e-16, 1.00000000e+00]])"
            ]
          },
          "metadata": {
            "tags": []
          },
          "execution_count": 55
        }
      ]
    },
    {
      "cell_type": "code",
      "metadata": {
        "colab": {
          "base_uri": "https://localhost:8080/"
        },
        "id": "RLV556nNRTOu",
        "outputId": "f3e75670-3544-4326-de47-6d2ca1446dd2"
      },
      "source": [
        "np.trace(A) # sum of elements of the main diagonal of A "
      ],
      "execution_count": 56,
      "outputs": [
        {
          "output_type": "execute_result",
          "data": {
            "text/plain": [
              "5"
            ]
          },
          "metadata": {
            "tags": []
          },
          "execution_count": 56
        }
      ]
    },
    {
      "cell_type": "code",
      "metadata": {
        "colab": {
          "base_uri": "https://localhost:8080/"
        },
        "id": "2Los1Y-WRyIE",
        "outputId": "5c346c94-62a4-4921-a2e9-dc1fcbdb92ae"
      },
      "source": [
        "np.diag(A) "
      ],
      "execution_count": 57,
      "outputs": [
        {
          "output_type": "execute_result",
          "data": {
            "text/plain": [
              "array([1, 4])"
            ]
          },
          "metadata": {
            "tags": []
          },
          "execution_count": 57
        }
      ]
    },
    {
      "cell_type": "code",
      "metadata": {
        "colab": {
          "base_uri": "https://localhost:8080/"
        },
        "id": "gHoekdmQR43U",
        "outputId": "b88a652a-247e-40e3-a48d-62658f5a4093"
      },
      "source": [
        "np.diag(A).sum() # same as np.trace(A)"
      ],
      "execution_count": 59,
      "outputs": [
        {
          "output_type": "execute_result",
          "data": {
            "text/plain": [
              "5"
            ]
          },
          "metadata": {
            "tags": []
          },
          "execution_count": 59
        }
      ]
    },
    {
      "cell_type": "code",
      "metadata": {
        "colab": {
          "base_uri": "https://localhost:8080/"
        },
        "id": "sNNz3fQVSGWd",
        "outputId": "7caae750-771e-453b-de42-7e1bb7002d61"
      },
      "source": [
        "np.linalg.eig(A) # returns eigen values and eigin vector of A  "
      ],
      "execution_count": 60,
      "outputs": [
        {
          "output_type": "execute_result",
          "data": {
            "text/plain": [
              "(array([-0.37228132,  5.37228132]), array([[-0.82456484, -0.41597356],\n",
              "        [ 0.56576746, -0.90937671]]))"
            ]
          },
          "metadata": {
            "tags": []
          },
          "execution_count": 60
        }
      ]
    },
    {
      "cell_type": "code",
      "metadata": {
        "colab": {
          "base_uri": "https://localhost:8080/"
        },
        "id": "f3ulxzk9Td5b",
        "outputId": "cfd76bb3-5ec3-4c1d-beed-d5d28d64ce97"
      },
      "source": [
        "e_values, e_vector = np.linalg.eig(A) \r\n",
        "\r\n",
        "e_vector[:,0] * e_values[0] , A @ e_vector[:,0]"
      ],
      "execution_count": 61,
      "outputs": [
        {
          "output_type": "execute_result",
          "data": {
            "text/plain": [
              "(array([ 0.30697009, -0.21062466]), array([ 0.30697009, -0.21062466]))"
            ]
          },
          "metadata": {
            "tags": []
          },
          "execution_count": 61
        }
      ]
    },
    {
      "cell_type": "code",
      "metadata": {
        "colab": {
          "base_uri": "https://localhost:8080/"
        },
        "id": "KsXAU_rZVhMF",
        "outputId": "ebba1ae7-1431-4d41-fcf0-fba708839942"
      },
      "source": [
        "np.allclose(e_vector[:,0] * e_values[0] , A @ e_vector[:,0])"
      ],
      "execution_count": 62,
      "outputs": [
        {
          "output_type": "execute_result",
          "data": {
            "text/plain": [
              "True"
            ]
          },
          "metadata": {
            "tags": []
          },
          "execution_count": 62
        }
      ]
    },
    {
      "cell_type": "code",
      "metadata": {
        "colab": {
          "base_uri": "https://localhost:8080/"
        },
        "id": "S7k8ksQIVvdU",
        "outputId": "16c6295e-0b2a-4e87-b283-50c87ccbc90b"
      },
      "source": [
        "np.allclose(e_vector.dot(np.diag(e_values)),  A.dot(e_vector)) # eigen_vector * eigen_values === matrix * eigen_vector"
      ],
      "execution_count": 64,
      "outputs": [
        {
          "output_type": "execute_result",
          "data": {
            "text/plain": [
              "True"
            ]
          },
          "metadata": {
            "tags": []
          },
          "execution_count": 64
        }
      ]
    },
    {
      "cell_type": "markdown",
      "metadata": {
        "id": "_cb4keW4Xb_x"
      },
      "source": [
        "**Solving Linear Equations**\r\n"
      ]
    },
    {
      "cell_type": "code",
      "metadata": {
        "id": "m9dfXepLX0bw"
      },
      "source": [
        "A = np.array([ [1,1], [1.5, 4]]) #  x1 +  x2  = 2200\r\n",
        "b = np.array([2200, 5050])     # 1.5x1 + 4x2  = 5050\r\n"
      ],
      "execution_count": 65,
      "outputs": []
    },
    {
      "cell_type": "code",
      "metadata": {
        "colab": {
          "base_uri": "https://localhost:8080/"
        },
        "id": "vy1HZHeKYqsg",
        "outputId": "c35cf9f9-4b10-46df-b2e6-6c25faa9025f"
      },
      "source": [
        "np.linalg.solve(A,b) # best practice "
      ],
      "execution_count": 66,
      "outputs": [
        {
          "output_type": "execute_result",
          "data": {
            "text/plain": [
              "array([1500.,  700.])"
            ]
          },
          "metadata": {
            "tags": []
          },
          "execution_count": 66
        }
      ]
    },
    {
      "cell_type": "code",
      "metadata": {
        "colab": {
          "base_uri": "https://localhost:8080/"
        },
        "id": "GzTwx8t5YzZQ",
        "outputId": "49b2293c-08ad-44f1-da7d-4134f68f9b67"
      },
      "source": [
        "np.linalg.inv(A).dot(b) # true maths way but not recommended "
      ],
      "execution_count": 67,
      "outputs": [
        {
          "output_type": "execute_result",
          "data": {
            "text/plain": [
              "array([1500.,  700.])"
            ]
          },
          "metadata": {
            "tags": []
          },
          "execution_count": 67
        }
      ]
    }
  ]
}